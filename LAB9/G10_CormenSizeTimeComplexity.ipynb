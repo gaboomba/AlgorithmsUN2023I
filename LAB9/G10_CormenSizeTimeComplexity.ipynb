{
  "nbformat": 4,
  "nbformat_minor": 0,
  "metadata": {
    "colab": {
      "provenance": [],
      "include_colab_link": true
    },
    "kernelspec": {
      "name": "python3",
      "display_name": "Python 3"
    },
    "language_info": {
      "name": "python"
    }
  },
  "cells": [
    {
      "cell_type": "markdown",
      "metadata": {
        "id": "view-in-github",
        "colab_type": "text"
      },
      "source": [
        "<a href=\"https://colab.research.google.com/github/7BatStrokes/AlgorithmsUN2023I/blob/main/LAB9/G10_CormenSizeTimeComplexity.ipynb\" target=\"_parent\"><img src=\"https://colab.research.google.com/assets/colab-badge.svg\" alt=\"Open In Colab\"/></a>"
      ]
    },
    {
      "cell_type": "code",
      "source": [
        "import math\n",
        "dct= {\"Second: n<= \":  1,\"Minute: n<= \": 60,\"Hour: n<= \": 3600,\"Day: n<= \": 86400,\"Year: n<= \": 3153600,\"Century: n<= \": 3153600000,\"Millenium: n<= \": 31536000000}"
      ],
      "metadata": {
        "id": "dWLSpjq4M9t8"
      },
      "execution_count": 17,
      "outputs": []
    },
    {
      "cell_type": "markdown",
      "source": [
        "# Complete the table (group \\# mod 4):\n",
        "\n",
        "> *group 10 mod 4 = 2*\n",
        "\n"
      ],
      "metadata": {
        "id": "4--59W99TTOJ"
      }
    },
    {
      "cell_type": "markdown",
      "metadata": {
        "id": "9fIs_70_DJWM"
      },
      "source": [
        "# 2.(2.5  nanoseconds by instruction)\n",
        "\n",
        "Asuuming that you can execute a 400 million instructions $400 \\times 10^6$ every second, i.e. each instrcution takes 2.5  nanoseconds, 2.5 $\\eta s  = 2.5 \\times 10^{-9} s$. If you have algorithms take $\\bf{ Time\\ Complexity}$ steps to solve a problem of size $n$ as specified in column one. What is the size of the largest problem that you can solve in the time specified in row one?\n",
        "$$\n",
        "\\begin{array}{|c|c|c|c|c|c|c|c|} \n",
        " \\hline\n",
        " \\bf{ Time\\ Complexity} & Second  & Minute  & Hour & Day & Year & Century & Millennium  \\\\ \n",
        "  \\hline\\\\ \n",
        "\\lg(n) &  2^{4 \\times 10^{8}} & 2^{2.4 \\times 10^{10}}  &  2^{1.44 \\times 10^{12}} & 2^{3.456 \\times 10^{13}} & 2^{1.26144 \\times 10^{16}} & 2^{1.26144 \\times 10^{18}} & 2^{1.26144 \\times 10^{19}} \\\\ \n",
        "   \\hline\\\\ \n",
        "\\lg^2(n) & 2^{20000} & 2^{154919} & 2^{1200000} &  2^{5878775} &  2^{112313845} & 2^{1123138459}  & 2^{3551675660} \\\\ \n",
        "   \\hline\\\\ \n",
        "\\sqrt{n} & 1.6 \\times 10^{17}  & 5.76 \\times 10^{20}  & 2.0736 \\times 10^{24}  & 1.1943936 \\times 10^{27} & 1.5912308736 \\times 10^{32} & 1.5912308736 \\times 10^{36} & 1.5912308736 \\times 10^{38}  \\\\ \n",
        " \\hline\n",
        " n & 4 \\times 10^{8}  & 2.4 \\times 10^{10}  & 1.44 \\times 10^{12} & 3.456 \\times 10^{13}  & 1.26144 \\times 10^{16} & 1.26144 \\times 10^{18} & 1.26144 \\times 10^{19} \\\\ \n",
        " \\hline\n",
        " n\\lg(n) &  16672916  & 810946912  & 40851448379 & 871310385977  & 263327470378616 & 23203092682389592 & 218986245421696512 \\\\ \n",
        " \\hline\n",
        " n^2 & 20000  & 154919 & 1200000 & 5878775 & 112313845 & 1123138459 & 355167566 \\\\ \n",
        " \\hline\n",
        "  n^3 & 736  & 2884 & 11292 & 32573 & 232785 & 1080493 & 2327852 \\\\  \n",
        " \\hline\n",
        "  n^4 & 141  & 393 & 1095 & 2424 & 10597 & 33513 & 59595 \\\\ \n",
        " \\hline\n",
        "  2^n & 28  & 34 & 40 & 44 & 53 & 60 & 63 \\\\ \n",
        " \\hline\n",
        " n! &  11  & 13  & 15 & 16 & 18 & 19 & 20 \\\\ \n",
        " \\hline\n",
        " n^n &  9  & 10  & 11 & 12 & 14 & 15 & 15 \\\\ \n",
        " \\hline\n",
        "\\end{array}\n",
        "$$"
      ]
    },
    {
      "cell_type": "markdown",
      "source": [
        "\n",
        "\n",
        "> **Nota:** Los valores obtenidos fueron truncados para determinar el máximo de instrucciones (enteras) que puede ejecutar la computadora\n",
        "\n"
      ],
      "metadata": {
        "id": "ZjwcysTn24Xl"
      }
    },
    {
      "cell_type": "markdown",
      "source": [
        "# Análisis:"
      ],
      "metadata": {
        "id": "GkiVnV8h3Inz"
      }
    },
    {
      "cell_type": "markdown",
      "metadata": {
        "id": "hioS01CHFp6v"
      },
      "source": [
        "$\\bf{ Time\\ Complexity\\ lg(n) }$\n",
        "\n",
        "$$ \\lg(n) \\times 2.5 \\times 10^{-9} s\\le 1\\ s$$ \n",
        "$$ \\lg(n) \\le \\frac{1}{2.5} \\times 10^{9}$$ \n",
        "$$ 2^{\\lg(n)} \\le 2^{0.4 \\times 10^{9}}$$ \n",
        "$$ n \\le 2^{4 \\times 10^{8}}$$ \n"
      ]
    },
    {
      "cell_type": "markdown",
      "source": [
        "$\\bf{ Time\\ Complexity\\ lg^2(n) }$\n",
        "\n",
        "\n",
        "$$ \\lg^2(n) \\times 2.5 \\times 10^{-9} s\\le 1\\ s$$ \n",
        "$$ \\lg^2(n) \\le  \\frac{1}{2.5} \\times 10^{9}$$ \n",
        "$$ \\lg(n) \\le \\sqrt {0.4 \\times 10^{9}}$$ \n",
        "$$ 2^{\\lg(n)} \\le 2^{\\sqrt {4 \\times 10^{8}}}$$ \n",
        "$$ n \\le 2^{20000}$$\n"
      ],
      "metadata": {
        "id": "vIreWjOUJcJz"
      }
    },
    {
      "cell_type": "markdown",
      "source": [
        "$\\bf{ Time\\ Complexity\\ \\sqrt n }$\n",
        "\n",
        "\n",
        "$$  \\sqrt n \\times 2.5 \\times 10^{-9}\\ s\\le 1\\ s$$ \n",
        "$$  \\sqrt n \\le  \\frac{1}{2.5} \\times 10^{9}$$ \n",
        "$$ \\sqrt{n}^2 \\le (0.4 \\times 10^{9})^2$$ \n",
        "$$ n \\le 1.6 \\times 10^{17} $$ \n"
      ],
      "metadata": {
        "id": "sneL7akJO03b"
      }
    },
    {
      "cell_type": "markdown",
      "source": [
        "$\\bf{ Time\\ Complexity\\  n }$\n",
        "\n",
        "$$ n \\times 2.5 \\times 10^{-9}\\ s\\le 1\\ s$$ \n",
        "$$ n \\le  \\frac{1}{2.5} \\times 10^{9}$$ \n",
        "$$ n \\le 0.4 \\times 10^{9}$$ \n",
        "$$ n \\le 4 \\times 10^{8} $$ "
      ],
      "metadata": {
        "id": "khugkNJPRoBJ"
      }
    },
    {
      "cell_type": "markdown",
      "source": [
        "$\\bf{ Time\\ Complexity\\   n \\ lg(n) }$"
      ],
      "metadata": {
        "id": "Untb32OFb_T6"
      }
    },
    {
      "cell_type": "code",
      "metadata": {
        "colab": {
          "base_uri": "https://localhost:8080/"
        },
        "id": "szukBFthF1_s",
        "outputId": "fbd66d67-ddfb-4837-fdfb-b920a618113e"
      },
      "source": [
        "def nlogn(x):\n",
        "    n = 2\n",
        "    top = (x/2.5)*math.pow(10, 9)\n",
        "    nlogn = 0\n",
        "    while(nlogn < top):\n",
        "        n = top/math.log2(n)\n",
        "        nlogn += (top-nlogn)/2\n",
        "    return int(n)\n",
        "\n",
        "for i in dct:\n",
        "  print(i, nlogn(dct[i]))"
      ],
      "execution_count": 23,
      "outputs": [
        {
          "output_type": "stream",
          "name": "stdout",
          "text": [
            "Second: n<=  16672916\n",
            "Minute: n<=  810946912\n",
            "Hour: n<=  40851448379\n",
            "Day: n<=  871310385977\n",
            "Year: n<=  28231275449833\n",
            "Century: n<=  23203092682389592\n",
            "Millenium: n<=  218986245421696512\n"
          ]
        }
      ]
    },
    {
      "cell_type": "markdown",
      "source": [
        "$\\bf{ Time\\ Complexity\\ n^2 }$\n",
        "\n",
        "$$ n^2 \\times 2.5 \\times 10^{-9}\\ s\\le 1\\ s$$ \n",
        "$$ n^2 \\le  \\frac{1}{2.5} \\times 10^{9}$$ \n",
        "$$ n \\le \\sqrt{ 0.4 \\times 10^{9}}$$ \n",
        "$$ n \\le 20000 $$ \n"
      ],
      "metadata": {
        "id": "b2nQCiMvJe4E"
      }
    },
    {
      "cell_type": "markdown",
      "source": [
        "$\\bf{ Time\\ Complexity\\ n^3 }$\n",
        "\n",
        "$$ n^3 \\times 2.5 \\times 10^{-9}\\ s\\le 1\\ s$$ \n",
        "$$ n^3 \\le  \\frac{1}{2.5} \\times 10^{9}$$ \n",
        "$$ n \\le \\sqrt[3]{ 0.4 \\times 10^{9}}$$ \n",
        "$$ n \\le 736 $$ "
      ],
      "metadata": {
        "id": "NtHcpgk1w-lf"
      }
    },
    {
      "cell_type": "markdown",
      "source": [
        "$\\bf{ Time\\ Complexity\\ n^4 }$\n",
        "\n",
        "$$ n^4 \\times 2.5 \\times 10^{-9}\\ s\\le 1\\ s$$ \n",
        "$$ n^4 \\le  \\frac{1}{2.5} \\times 10^{9}$$ \n",
        "$$ n \\le \\sqrt[4]{ 0.4 \\times 10^{9}}$$ \n",
        "$$ n \\le 141 $$ \n"
      ],
      "metadata": {
        "id": "HUE5Y4XUytFR"
      }
    },
    {
      "cell_type": "markdown",
      "source": [
        "$\\bf{ Time\\ Complexity\\  2^n }$\n",
        "\n",
        "$$  2^n \\times 2.5 \\times 10^{-9}\\ s\\le 1\\ s$$ \n",
        "$$   2^n \\le  \\frac{1}{2.5} \\times 10^{9}$$ \n",
        "$$   log_2(2^n) \\le  log_2(0.4 \\times 10^{9})$$\n",
        "$$   n \\le log_2(4 \\times 10^{8})$$\n",
        "$$   n \\le 28 $$"
      ],
      "metadata": {
        "id": "I5gyGani0c5u"
      }
    },
    {
      "cell_type": "markdown",
      "source": [
        "$\\bf{ Time\\ Complexity\\   n ! }$"
      ],
      "metadata": {
        "id": "kWGeskd24kgP"
      }
    },
    {
      "cell_type": "code",
      "metadata": {
        "colab": {
          "base_uri": "https://localhost:8080/"
        },
        "outputId": "35afc2c1-1a74-41c1-bd5d-7bcb9ef05b55",
        "id": "3RERCj844utv"
      },
      "source": [
        "def nfact(x):\n",
        "    n = 0\n",
        "    top = (x/2.5)*math.pow(10, 9)\n",
        "    nfact = 1\n",
        "    while(nfact <= top):\n",
        "        n = n + 1\n",
        "        nfact = math.factorial(n)\n",
        "    return int(n-1)\n",
        "\n",
        "for i in dct:\n",
        "  print(i, nfact(dct[i]))"
      ],
      "execution_count": 21,
      "outputs": [
        {
          "output_type": "stream",
          "name": "stdout",
          "text": [
            "Second: n<=  11\n",
            "Minute: n<=  13\n",
            "Hour: n<=  15\n",
            "Day: n<=  16\n",
            "Year: n<=  17\n",
            "Century: n<=  19\n",
            "Millenium: n<=  20\n"
          ]
        }
      ]
    },
    {
      "cell_type": "markdown",
      "source": [
        "$\\bf{ Time\\ Complexity\\   n ^n }$"
      ],
      "metadata": {
        "id": "2Y6LjcHn6BV_"
      }
    },
    {
      "cell_type": "code",
      "metadata": {
        "colab": {
          "base_uri": "https://localhost:8080/"
        },
        "outputId": "1e6aad80-1f11-463f-b500-de2649f5f93f",
        "id": "N6xssaN66Fjg"
      },
      "source": [
        "def npotn(x):\n",
        "    n = 0\n",
        "    top = (x/2.5)*math.pow(10, 9)\n",
        "    npotn = 1\n",
        "    while(npotn <= top):\n",
        "        n = n + 1\n",
        "        npotn = n**n\n",
        "    return int(n-1)\n",
        "\n",
        "for i in dct:\n",
        "  print(i, npotn(dct[i]))"
      ],
      "execution_count": 22,
      "outputs": [
        {
          "output_type": "stream",
          "name": "stdout",
          "text": [
            "Second: n<=  9\n",
            "Minute: n<=  10\n",
            "Hour: n<=  11\n",
            "Day: n<=  12\n",
            "Year: n<=  13\n",
            "Century: n<=  15\n",
            "Millenium: n<=  15\n"
          ]
        }
      ]
    }
  ]
}