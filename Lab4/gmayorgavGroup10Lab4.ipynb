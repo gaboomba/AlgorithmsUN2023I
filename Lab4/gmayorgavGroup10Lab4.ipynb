{
  "nbformat": 4,
  "nbformat_minor": 0,
  "metadata": {
    "colab": {
      "provenance": []
    },
    "kernelspec": {
      "name": "python3",
      "display_name": "Python 3"
    },
    "language_info": {
      "name": "python"
    }
  },
  "cells": [
    {
      "cell_type": "markdown",
      "metadata": {
        "id": "view-in-github"
      },
      "source": [
        "<a href=\"https://colab.research.google.com/github/gjhernandezp/algorithms/blob/master/Lab4/gjhernandezpAlgorithmicToolboxWeek1.ipynb\" target=\"_parent\"><img src=\"https://colab.research.google.com/assets/colab-badge.svg\" alt=\"Open In Colab\"/></a>"
      ]
    },
    {
      "cell_type": "markdown",
      "metadata": {
        "id": "N1ok_-56OjB1"
      },
      "source": [
        "# I Solving the Sum of Two Digits Programming Challenge"
      ]
    },
    {
      "cell_type": "markdown",
      "metadata": {
        "id": "MMY7kmDSO0KM"
      },
      "source": [
        "## C++"
      ]
    },
    {
      "cell_type": "code",
      "metadata": {
        "colab": {
          "base_uri": "https://localhost:8080/"
        },
        "id": "2pGGf9BkPNIk",
        "outputId": "3300f3fd-e315-46b5-830b-362d16d3aafd"
      },
      "source": [
        "%%writefile APlusB.cpp\n",
        "#include <iostream>\n",
        "\n",
        "int sum_of_two_digits(int first_digit, int second_digit) {\n",
        "    return first_digit + second_digit;\n",
        "}\n",
        "\n",
        "int main() {\n",
        "    int a = 0;\n",
        "    int b = 0;\n",
        "    std::cin >> a;\n",
        "    std::cin >> b;\n",
        "    std::cout << sum_of_two_digits(a, b);\n",
        "    return 0;\n",
        "}"
      ],
      "execution_count": 1,
      "outputs": [
        {
          "output_type": "stream",
          "name": "stdout",
          "text": [
            "Writing APlusB.cpp\n"
          ]
        }
      ]
    },
    {
      "cell_type": "code",
      "metadata": {
        "colab": {
          "base_uri": "https://localhost:8080/"
        },
        "id": "0G3ZKOYAPXSU",
        "outputId": "a99544fa-d5c9-4ebc-c9fe-b03df213f1cc"
      },
      "source": [
        "!g++ APlusB.cpp -o APlusB -std=c++11\n",
        "!./APlusB"
      ],
      "execution_count": 2,
      "outputs": [
        {
          "output_type": "stream",
          "name": "stdout",
          "text": [
            "4\n",
            "5\n",
            "9"
          ]
        }
      ]
    },
    {
      "cell_type": "markdown",
      "metadata": {
        "id": "iNkG2HqfTl9c"
      },
      "source": [
        "### Test input output files"
      ]
    },
    {
      "cell_type": "code",
      "metadata": {
        "colab": {
          "base_uri": "https://localhost:8080/"
        },
        "id": "aTzU2efzMxly",
        "outputId": "a5d8c924-b955-4ef7-a4c5-e268e61a8202"
      },
      "source": [
        "%%writefile input1.txt\n",
        "4 8"
      ],
      "execution_count": 3,
      "outputs": [
        {
          "output_type": "stream",
          "name": "stdout",
          "text": [
            "Writing input1.txt\n"
          ]
        }
      ]
    },
    {
      "cell_type": "markdown",
      "metadata": {
        "id": "pdkfsvs-T0Wr"
      },
      "source": []
    },
    {
      "cell_type": "code",
      "metadata": {
        "colab": {
          "base_uri": "https://localhost:8080/"
        },
        "id": "zBJ0Gc0NQRet",
        "outputId": "ab7ce8fa-a1f9-46d5-c4a4-76abe4de8411"
      },
      "source": [
        "%%writefile output1.txt\n",
        "12"
      ],
      "execution_count": 4,
      "outputs": [
        {
          "output_type": "stream",
          "name": "stdout",
          "text": [
            "Writing output1.txt\n"
          ]
        }
      ]
    },
    {
      "cell_type": "code",
      "metadata": {
        "colab": {
          "base_uri": "https://localhost:8080/"
        },
        "id": "IjEcIx63PJAN",
        "outputId": "78d29f8c-d6d6-4144-fd49-7152ef184da9"
      },
      "source": [
        "%%writefile input2.txt\n",
        "-5 9"
      ],
      "execution_count": 5,
      "outputs": [
        {
          "output_type": "stream",
          "name": "stdout",
          "text": [
            "Writing input2.txt\n"
          ]
        }
      ]
    },
    {
      "cell_type": "code",
      "metadata": {
        "colab": {
          "base_uri": "https://localhost:8080/"
        },
        "id": "Up9gOrxURTmd",
        "outputId": "b16d7ae8-f57b-47b2-b298-0088e6019149"
      },
      "source": [
        "%%writefile output2.txt\n",
        "4"
      ],
      "execution_count": 6,
      "outputs": [
        {
          "output_type": "stream",
          "name": "stdout",
          "text": [
            "Writing output2.txt\n"
          ]
        }
      ]
    },
    {
      "cell_type": "code",
      "metadata": {
        "colab": {
          "base_uri": "https://localhost:8080/"
        },
        "id": "PST6G-s-Pwgc",
        "outputId": "dbd0d9a5-9eb5-4508-f6e7-cd071df4f80b"
      },
      "source": [
        "!./APlusB < input1.txt"
      ],
      "execution_count": 7,
      "outputs": [
        {
          "output_type": "stream",
          "name": "stdout",
          "text": [
            "12"
          ]
        }
      ]
    },
    {
      "cell_type": "code",
      "metadata": {
        "colab": {
          "base_uri": "https://localhost:8080/"
        },
        "id": "cKxZOjSlRfIN",
        "outputId": "0a8e0417-fb8e-495f-ba92-4dcac7c430be"
      },
      "source": [
        "!./APlusB < input2.txt"
      ],
      "execution_count": 8,
      "outputs": [
        {
          "output_type": "stream",
          "name": "stdout",
          "text": [
            "4"
          ]
        }
      ]
    },
    {
      "cell_type": "markdown",
      "metadata": {
        "id": "Qw2TQWCCUwqk"
      },
      "source": [
        "### Comparing files with grep\n",
        "\n",
        "https://askubuntu.com/questions/546796/comparing-two-text-files"
      ]
    },
    {
      "cell_type": "code",
      "metadata": {
        "id": "WVIaAmMKU4QM"
      },
      "source": [
        "!grep -xvFf output1.txt output1.txt "
      ],
      "execution_count": 9,
      "outputs": []
    },
    {
      "cell_type": "code",
      "metadata": {
        "colab": {
          "base_uri": "https://localhost:8080/"
        },
        "id": "MQU8gPPjQuYO",
        "outputId": "0427bd0c-c1ea-4090-c7de-26bd38247df4"
      },
      "source": [
        "!grep -xvFf output1.txt output2.txt "
      ],
      "execution_count": 10,
      "outputs": [
        {
          "output_type": "stream",
          "name": "stdout",
          "text": [
            "4\n"
          ]
        }
      ]
    },
    {
      "cell_type": "code",
      "metadata": {
        "colab": {
          "base_uri": "https://localhost:8080/"
        },
        "id": "jYL9OuYBTD_l",
        "outputId": "1c2c5c96-f52f-4d3c-957c-a4a747cf9c4f"
      },
      "source": [
        "!grep -xvFf output2.txt output1.txt "
      ],
      "execution_count": 11,
      "outputs": [
        {
          "output_type": "stream",
          "name": "stdout",
          "text": [
            "12\n"
          ]
        }
      ]
    },
    {
      "cell_type": "code",
      "metadata": {
        "id": "Jlja0Xm4TX9M"
      },
      "source": [
        "!./APlusB < input1.txt> ctest1.txt\n",
        "!grep -xvFf output1.txt ctest1.txt"
      ],
      "execution_count": 12,
      "outputs": []
    },
    {
      "cell_type": "code",
      "metadata": {
        "id": "g9OIUZA_QLCQ"
      },
      "source": [
        "!./APlusB < input2.txt > ctest2.txt\n",
        "!grep -xvFf output2.txt ctest2.txt"
      ],
      "execution_count": 13,
      "outputs": []
    },
    {
      "cell_type": "markdown",
      "metadata": {
        "id": "3BgOaDjUVJk6"
      },
      "source": [
        "## Python"
      ]
    },
    {
      "cell_type": "code",
      "metadata": {
        "colab": {
          "base_uri": "https://localhost:8080/"
        },
        "id": "DBvl-T0CTN_8",
        "outputId": "ea4bac15-9a5c-4236-f9be-1cd0cb6fc210"
      },
      "source": [
        "%%writefile sum.py\n",
        "# python3\n",
        "\n",
        "def sum_of_two_digits(first_digit, second_digit):\n",
        "    return first_digit + second_digit\n",
        "\n",
        "if __name__ == '__main__':\n",
        "    a, b = map(int, input().split())\n",
        "    print(sum_of_two_digits(a, b))"
      ],
      "execution_count": 14,
      "outputs": [
        {
          "output_type": "stream",
          "name": "stdout",
          "text": [
            "Writing sum.py\n"
          ]
        }
      ]
    },
    {
      "cell_type": "code",
      "metadata": {
        "colab": {
          "base_uri": "https://localhost:8080/"
        },
        "id": "QKoKM11_WGyF",
        "outputId": "ac12cd89-8988-426d-87be-32d9bcfc57a3"
      },
      "source": [
        "!python sum.py"
      ],
      "execution_count": 15,
      "outputs": [
        {
          "output_type": "stream",
          "name": "stdout",
          "text": [
            "4 5\n",
            "9\n"
          ]
        }
      ]
    },
    {
      "cell_type": "code",
      "metadata": {
        "id": "cocFbPRTWrqt"
      },
      "source": [
        "!python sum.py  < input1.txt> ptest1.txt\n",
        "!grep -xvFf output1.txt ptest1.txt"
      ],
      "execution_count": 18,
      "outputs": []
    },
    {
      "cell_type": "code",
      "metadata": {
        "id": "MorKTa-XXASN"
      },
      "source": [
        "!python sum.py  < input2.txt> ptest2.txt\n",
        "!grep -xvFf output2.txt ptest2.txt"
      ],
      "execution_count": 19,
      "outputs": []
    },
    {
      "cell_type": "markdown",
      "metadata": {
        "id": "uvP-mOubW_5F"
      },
      "source": [
        "# II Solving The Maximum Pairwise Product Programming Challenge in C++"
      ]
    },
    {
      "cell_type": "markdown",
      "metadata": {
        "id": "C12yoFR6Xonl"
      },
      "source": [
        "## C++"
      ]
    },
    {
      "cell_type": "code",
      "metadata": {
        "colab": {
          "base_uri": "https://localhost:8080/"
        },
        "id": "YL4qJX3tXxdd",
        "outputId": "8b458c34-3dd0-46b8-828d-630dd56b7104"
      },
      "source": [
        "%%writefile max_pairwise_product.cpp\n",
        "#include <iostream>\n",
        "#include <vector>\n",
        "#include <algorithm>\n",
        "\n",
        "int MaxPairwiseProduct(const std::vector<int>& numbers) {\n",
        "    int max_product = 0;\n",
        "    int n = numbers.size();\n",
        "\n",
        "    for (int first = 0; first < n; ++first) {\n",
        "        for (int second = first + 1; second < n; ++second) {\n",
        "            max_product = std::max(max_product,\n",
        "                numbers[first] * numbers[second]);\n",
        "        }\n",
        "    }\n",
        "\n",
        "    return max_product;\n",
        "}\n",
        "\n",
        "int main() {\n",
        "    int n;\n",
        "    std::cin >> n;\n",
        "    std::vector<int> numbers(n);\n",
        "    for (int i = 0; i < n; ++i) {\n",
        "        std::cin >> numbers[i];\n",
        "    }\n",
        "\n",
        "    std::cout << MaxPairwiseProduct(numbers) << \"\\n\";\n",
        "    return 0;\n",
        "}\n"
      ],
      "execution_count": 20,
      "outputs": [
        {
          "output_type": "stream",
          "name": "stdout",
          "text": [
            "Writing max_pairwise_product.cpp\n"
          ]
        }
      ]
    },
    {
      "cell_type": "code",
      "metadata": {
        "colab": {
          "base_uri": "https://localhost:8080/"
        },
        "id": "KGxaEjvWX__O",
        "outputId": "2f046e75-a254-495e-ce99-b5d49d93abcd"
      },
      "source": [
        "!g++ max_pairwise_product.cpp -o max_pairwise_product\n",
        "!./max_pairwise_product"
      ],
      "execution_count": 21,
      "outputs": [
        {
          "output_type": "stream",
          "name": "stdout",
          "text": [
            "4\n",
            "234\n",
            "2356\n",
            "1235\n",
            "32\n",
            "2909660\n"
          ]
        }
      ]
    },
    {
      "cell_type": "markdown",
      "metadata": {
        "id": "e7KhxHGNS3i0"
      },
      "source": [
        "### Test 1: Small numbers"
      ]
    },
    {
      "cell_type": "code",
      "metadata": {
        "colab": {
          "base_uri": "https://localhost:8080/"
        },
        "id": "e1mmTzBgShT-",
        "outputId": "10d7d678-fe46-4c71-caeb-60d731aee588"
      },
      "source": [
        "%%writefile input1.txt\n",
        "10\n",
        "1 2 3 4 5 6 7 8 9 10"
      ],
      "execution_count": 22,
      "outputs": [
        {
          "output_type": "stream",
          "name": "stdout",
          "text": [
            "Overwriting input1.txt\n"
          ]
        }
      ]
    },
    {
      "cell_type": "code",
      "metadata": {
        "colab": {
          "base_uri": "https://localhost:8080/"
        },
        "id": "vy_uI0x7TCId",
        "outputId": "8bdf1988-081c-49f8-f742-2f7de74fcecb"
      },
      "source": [
        "!./max_pairwise_product < input1.txt"
      ],
      "execution_count": 23,
      "outputs": [
        {
          "output_type": "stream",
          "name": "stdout",
          "text": [
            "90\n"
          ]
        }
      ]
    },
    {
      "cell_type": "markdown",
      "metadata": {
        "id": "IeZ3kTjpYmR9"
      },
      "source": [
        "### Test 2: largest input numbers 200000 200000 in the input"
      ]
    },
    {
      "cell_type": "code",
      "metadata": {
        "colab": {
          "base_uri": "https://localhost:8080/"
        },
        "id": "LQNlZqaqYt7U",
        "outputId": "4940cf96-f615-45c4-98eb-1b54ab19123c"
      },
      "source": [
        "%%writefile input2.txt\n",
        "6\n",
        "1 3 200000 9 200000 23"
      ],
      "execution_count": 24,
      "outputs": [
        {
          "output_type": "stream",
          "name": "stdout",
          "text": [
            "Overwriting input2.txt\n"
          ]
        }
      ]
    },
    {
      "cell_type": "code",
      "metadata": {
        "colab": {
          "base_uri": "https://localhost:8080/"
        },
        "id": "2Wad2VZUZDxR",
        "outputId": "ad0abfb2-96d7-42f0-a36b-50eabe63ce7f"
      },
      "source": [
        "!./max_pairwise_product < input2.txt"
      ],
      "execution_count": 25,
      "outputs": [
        {
          "output_type": "stream",
          "name": "stdout",
          "text": [
            "1345294336\n"
          ]
        }
      ]
    },
    {
      "cell_type": "markdown",
      "metadata": {
        "id": "H2SC0Qt5HCzz"
      },
      "source": [
        "Changing the variables to long long"
      ]
    },
    {
      "cell_type": "code",
      "metadata": {
        "colab": {
          "base_uri": "https://localhost:8080/"
        },
        "id": "MPcmsxiQZSfE",
        "outputId": "a8172402-afcd-4ad9-c49d-b3d8c7733581"
      },
      "source": [
        "%%writefile max_pairwise_product_long.cpp\n",
        "#include <iostream>\n",
        "#include <vector>\n",
        "#include <algorithm>\n",
        "\n",
        "long long MaxPairwiseProduct(const std::vector<int>& numbers) {\n",
        "    long long max_product = 0LL;\n",
        "\t  long long aux_product = 0LL;\n",
        "    int n = numbers.size();\n",
        "\n",
        "    for (int first = 0; first < n; ++first) {\n",
        "        for (int second = first + 1; second < n; ++second) {\n",
        "\t\t\t       aux_product =  (long long) numbers[first] * numbers[second];\n",
        "            if ( max_product < aux_product)  {\n",
        "\t\t\t\t        max_product = aux_product;\n",
        "             }\n",
        "        }\n",
        "    }\n",
        "\n",
        "    return max_product;\n",
        "}\n",
        "\n",
        "int main() {\n",
        "    int n;\n",
        "    std::cin >> n;\n",
        "    std::vector<int> numbers(n);\n",
        "    for (int i = 0; i < n; ++i) {\n",
        "        std::cin >> numbers[i];\n",
        "    }\n",
        "\n",
        "    std::cout << MaxPairwiseProduct(numbers) << \"\\n\";\n",
        "    return 0;\n",
        "}\n"
      ],
      "execution_count": 26,
      "outputs": [
        {
          "output_type": "stream",
          "name": "stdout",
          "text": [
            "Writing max_pairwise_product_long.cpp\n"
          ]
        }
      ]
    },
    {
      "cell_type": "code",
      "metadata": {
        "colab": {
          "base_uri": "https://localhost:8080/"
        },
        "id": "I5pCeOG1Zm7s",
        "outputId": "5cc5f053-45ce-4372-9a0e-c140e6a0e986"
      },
      "source": [
        "!g++ max_pairwise_product_long.cpp -o max_pairwise_product_long\n",
        "!./max_pairwise_product_long < input1.txt\n",
        "!./max_pairwise_product_long < input2.txt"
      ],
      "execution_count": 27,
      "outputs": [
        {
          "output_type": "stream",
          "name": "stdout",
          "text": [
            "90\n",
            "40000000000\n"
          ]
        }
      ]
    },
    {
      "cell_type": "markdown",
      "metadata": {
        "id": "XPVHkHxH6_7s"
      },
      "source": [
        "### Test 3  stress tests 20  times  random n in [2, 20] "
      ]
    },
    {
      "cell_type": "code",
      "metadata": {
        "id": "PwqpBmYr69fu"
      },
      "source": [],
      "execution_count": null,
      "outputs": []
    },
    {
      "cell_type": "markdown",
      "metadata": {
        "id": "9z9yr5QkeyJF"
      },
      "source": [
        "### Test 4  time test  measure the execution time running with the the largest worst case file (200000 increasing numbers, 200000 and 200000 the end) "
      ]
    },
    {
      "cell_type": "code",
      "metadata": {
        "id": "oLiMjbAIfPlX",
        "colab": {
          "base_uri": "https://localhost:8080/"
        },
        "outputId": "aa0523a7-8edf-49bd-8643-1f3ea0765336"
      },
      "source": [
        "%%writefile Test2Write.cpp\n",
        "\n",
        "#include <iostream>\n",
        "#include <fstream>\n",
        "#include <cstdlib>\n",
        "\n",
        "using namespace std;\n",
        "\n",
        "int main() {\n",
        "  // Create and open a text file\n",
        "  ofstream MyFile(\"input3.txt\");\n",
        "\n",
        " MyFile << 200000 <<\"\\n\";  // n \n",
        " for (int i=1; i < 200001; i++){\n",
        "     MyFile << i <<\" \";\n",
        " }\n",
        "  \n",
        "  // Close the file\n",
        "  MyFile.close();\n",
        "}"
      ],
      "execution_count": 28,
      "outputs": [
        {
          "output_type": "stream",
          "name": "stdout",
          "text": [
            "Writing Test2Write.cpp\n"
          ]
        }
      ]
    },
    {
      "cell_type": "code",
      "metadata": {
        "id": "EH25TkOkZfD9"
      },
      "source": [
        "!g++ Test2Write.cpp -o Test2Write\n",
        "!./Test2Write"
      ],
      "execution_count": 29,
      "outputs": []
    },
    {
      "cell_type": "markdown",
      "metadata": {
        "id": "JB6f03qO-lj9"
      },
      "source": [
        "Measure time\n",
        "\n",
        "https://askubuntu.com/questions/53444/how-can-i-measure-the-execution-time-of-a-terminal-process"
      ]
    },
    {
      "cell_type": "code",
      "metadata": {
        "colab": {
          "base_uri": "https://localhost:8080/"
        },
        "id": "6p2QLEr576zk",
        "outputId": "45138bae-0d85-4df2-b2b4-60680cc6c540"
      },
      "source": [
        "!g++ max_pairwise_product_long.cpp -o max_pairwise_product_long\n",
        "!time ./max_pairwise_product_long < input3.txt"
      ],
      "execution_count": 30,
      "outputs": [
        {
          "output_type": "stream",
          "name": "stdout",
          "text": [
            "6\n",
            "12414\n",
            "214214\n",
            "435\n",
            "34534346\n",
            "42342\n",
            "123\n",
            "232367\n",
            "234236\n",
            "^C\n"
          ]
        }
      ]
    },
    {
      "cell_type": "markdown",
      "metadata": {
        "id": "AmZeB2wYjxy5"
      },
      "source": [
        "##### Calculate  the number of instructions executed by the algorithm as a function of n, add in each line a comment with the number of instructions that are executed in that line \n",
        "\n",
        "```cpp\n",
        " int main() {                         //N inst exec by line executed  \n",
        "   \n",
        "    int n;                            //1                      \n",
        "    std::cin >> n;                    //1\n",
        "                                              \n",
        "    std::vector<int> numbers(n);      //n    init vector\n",
        "    .\n",
        "    .\n",
        " }\n",
        "\n",
        "```"
      ]
    },
    {
      "cell_type": "code",
      "metadata": {
        "colab": {
          "base_uri": "https://localhost:8080/"
        },
        "id": "djGX3FL13g9b",
        "outputId": "270176eb-1660-419e-de67-2c8f8c3c7f74"
      },
      "source": [
        "%%writefile test_init_vectors.cpp\n",
        "#include <iostream>\n",
        "#include <vector>\n",
        "#include <algorithm>\n",
        "int main() {                                                               \n",
        "    int n = 10;                                                                                                                            //1\n",
        "    std::vector<int> numbers(n);                                            \n",
        "    for (int i = 0; i < n; ++i) {                                           \n",
        "        std::cout << numbers[i];                                             \n",
        "    }\n",
        "\n",
        "    std::cout << \"\\n\";                       \n",
        "    return 0;                                                              \n",
        "}  "
      ],
      "execution_count": null,
      "outputs": [
        {
          "output_type": "stream",
          "text": [
            "Overwriting test_init_vectors.cpp\n"
          ],
          "name": "stdout"
        }
      ]
    },
    {
      "cell_type": "code",
      "metadata": {
        "colab": {
          "base_uri": "https://localhost:8080/"
        },
        "id": "44gZcuE237-1",
        "outputId": "7f5f9c2a-bed0-4223-ee39-3290f70db610"
      },
      "source": [
        "!g++ test_init_vectors.cpp -o test_init_vectors\n",
        "!./test_init_vectors"
      ],
      "execution_count": null,
      "outputs": [
        {
          "output_type": "stream",
          "text": [
            "0000000000\n"
          ],
          "name": "stdout"
        }
      ]
    },
    {
      "cell_type": "code",
      "metadata": {
        "colab": {
          "base_uri": "https://localhost:8080/"
        },
        "id": "uG6Mv-Pwlkii",
        "outputId": "8b4b2a48-2fc3-4feb-81ab-088e183a49f5"
      },
      "source": [
        "%%writefile max_pairwise_product_long.cpp\n",
        "#include <iostream>\n",
        "#include <vector>\n",
        "#include <algorithm>\n",
        "\n",
        "long long MaxPairwiseProduct(const std::vector<int>& numbers) {              //N inst exec by line executed \n",
        "    long long max_product = 0LL;                                             //1                                          \n",
        "\t  long long aux_product = 0LL;                                             //1 \n",
        "    int n = numbers.size();                                                  //1 \n",
        "                                                                             \n",
        "    for (int first = 0; first < n; ++first) {                                //1+2n  \n",
        "        for (int second = first + 1; second < n; ++second) {                 //n + (n-1)n \n",
        "\t\t\t       aux_product =  (long long) numbers[first] * numbers[second];    //(n-1)n/2 \n",
        "            if (max_product < aux_product)  {                                //(n-1)n/2 \n",
        "\t\t\t\t        max_product = aux_product;                                   //[0, (n-1)n/2] \n",
        "             }\n",
        "        }\n",
        "    }\n",
        "                                                                             // -------------- \n",
        "    return max_product;                                                      // 4 + 3n + [2(n-1)n, 2.5 (n-1)n] \n",
        "}\n",
        "\n",
        "int main() {                                              //N inst exec by line executed \n",
        "    int n;                                                //1  \n",
        "    std::cin >> n;                                        //1\n",
        "    std::vector<int> numbers(n);                          //n\n",
        "    for (int i = 0; i < n; ++i) {                         //1 + 2n\n",
        "        std::cin >> numbers[i];                           //n\n",
        "    }\n",
        "\n",
        "    std::cout << MaxPairwiseProduct(numbers) << \"\\n\";     //1 + 1  + 4 + 3n + [2(n-1)n, 2.5 (n-1)n]\n",
        "    return 0;                                             // -------------- \n",
        "}                                                         // 9 + 7n + [2(n-1)n, 2.5 (n-1)n]\n"
      ],
      "execution_count": null,
      "outputs": [
        {
          "output_type": "stream",
          "text": [
            "Overwriting max_pairwise_product_long.cpp\n"
          ],
          "name": "stdout"
        }
      ]
    },
    {
      "cell_type": "markdown",
      "metadata": {
        "id": "0vTsUg8OwcHs"
      },
      "source": [
        "Count executed intructions in code and verify with inputs 1, 2 and 3"
      ]
    },
    {
      "cell_type": "code",
      "metadata": {
        "colab": {
          "base_uri": "https://localhost:8080/"
        },
        "id": "CuRKkqQc137V",
        "outputId": "58b72004-01f8-4734-96f8-5ff1a32cdd31"
      },
      "source": [
        "%%writefile max_pairwise_product_long_execints.cpp\n",
        "#include <iostream>\n",
        "#include <vector>\n",
        "#include <algorithm>\n",
        "\n",
        "long long MaxPairwiseProduct(const std::vector<int>& numbers, long long &execints) {              //N inst exec by line executed \n",
        "    \n",
        "    long long m = 0LL;                                                       //1\n",
        "    \n",
        "    long long max_product = 0LL;                                             //1\n",
        "    execints++;\n",
        "\n",
        "\t  long long aux_product = 0LL;                                             //1\n",
        "    execints++;\n",
        "\n",
        "    int n = numbers.size();                                                  //1 \n",
        "    execints++;\n",
        "\n",
        "    execints++;                                                                         \n",
        "    for (int first = 0; first < n; ++first) {                                //1+2n  \n",
        "        execints += 2;\n",
        "\n",
        "        long long m = 0LL;\n",
        "\n",
        "        execints++;                                    \n",
        "        for (int second = first + 1; second < n; ++second) {                 //n+ (n-1)n \n",
        "            execints += 2;                                                \n",
        "\n",
        "\t\t\t      aux_product =  (long long) numbers[first] * numbers[second];    //(n-1)n/2 \n",
        "            execints++; \n",
        "\n",
        "            execints++; \n",
        "            if ( max_product < aux_product)  {                               //(n-1)n/2 \n",
        "                       \n",
        "\t\t\t\t        max_product = aux_product;                                   //[0, (n-1)n/2] \n",
        "                execints++; \n",
        "                m++;\n",
        "             }\n",
        "        }\n",
        "        if ( (first <= 10) || (n- first <= 10)) std::cout << m << \"\\n\";\n",
        "    }\n",
        "                                                                            // -------------- \n",
        "    return max_product;                                                     // 4 + 3n + [2(n-1)n, 2.5 (n-1)n] \n",
        "}\n",
        "\n",
        "int main() {                                                 //N inst exec by line executed \n",
        "    long long execints =0LL;\n",
        "\n",
        "    int n;                                                   //1\n",
        "    execints++;                                                              \n",
        "    \n",
        "    std::cin >> n;                                           //1\n",
        "    execints++;\n",
        "\n",
        "    std::vector<int> numbers(n);                             //n\n",
        "    execints += n;\n",
        "    \n",
        "    execints++;\n",
        "    for (int i = 0; i < n; ++i) {                            //1 + 2n\n",
        "        execints += 2;\n",
        "\n",
        "        std::cin >> numbers[i];\n",
        "        execints++;                                          //n\n",
        "    }\n",
        "    \n",
        "    //std::cout << MaxPairwiseProduct(numbers) << \"\\n\";      //1 + 1  + 4 + 3n + [2(n-1)n, 2.5 (n-1)n]\n",
        "\n",
        "    execints++;\n",
        "    int M = MaxPairwiseProduct(numbers,execints);\n",
        "\n",
        "    execints++;\n",
        "    std::cout <<  execints << \"\\n\";                       \n",
        "    return 0;                                                // -------------- \n",
        "}                                                            // 9 + 7n + [2(n-1)n, 2.5 (n-1)n]"
      ],
      "execution_count": null,
      "outputs": [
        {
          "output_type": "stream",
          "text": [
            "Overwriting max_pairwise_product_long_execints.cpp\n"
          ],
          "name": "stdout"
        }
      ]
    },
    {
      "cell_type": "code",
      "metadata": {
        "colab": {
          "base_uri": "https://localhost:8080/"
        },
        "id": "Kuvm1C05ly2a",
        "outputId": "f8e2f872-e7d9-4732-acb4-5ffe2e6568d1"
      },
      "source": [
        "!g++ max_pairwise_product_long_execints.cpp -o max_pairwise_product_long_execints\n",
        "!./max_pairwise_product_long_execints < input1.txt\n",
        "!./max_pairwise_product_long_execints < input2.txt\n",
        "!./max_pairwise_product_long_execints < input3.txt"
      ],
      "execution_count": null,
      "outputs": [
        {
          "output_type": "stream",
          "text": [
            "9\n",
            "5\n",
            "4\n",
            "3\n",
            "2\n",
            "2\n",
            "2\n",
            "2\n",
            "1\n",
            "0\n",
            "289\n",
            "2\n",
            "1\n",
            "2\n",
            "0\n",
            "0\n",
            "0\n",
            "116\n",
            "199999\n",
            "100000\n",
            "66667\n",
            "50000\n",
            "40000\n",
            "33334\n",
            "28572\n",
            "25000\n",
            "22223\n",
            "20000\n",
            "18182\n",
            "2\n",
            "2\n",
            "2\n",
            "2\n",
            "2\n",
            "2\n",
            "2\n",
            "2\n",
            "1\n",
            "0\n",
            "80003672077\n"
          ],
          "name": "stdout"
        }
      ]
    },
    {
      "cell_type": "markdown",
      "metadata": {
        "id": "L_uaamxeAHK7"
      },
      "source": [
        "The number of instructions executed by the algooirithm with a list of size $n$ is  \n",
        "\n",
        "$$T = 9 + 7n + [2(n-1)n, 2.5 (n-1)n]$$\n",
        "\n",
        "It depends on the size of the lists and  the order of the list.\n",
        "\n",
        "For the input1.txt \n",
        "```\n",
        "10\n",
        "1 2 3 4 5 6 7 8 9 10\n",
        "```\n",
        "$$T = 9 + 7(10) + 2(9)(10) +  9 + 5 + 4 + 3 + 2 + 2 + 2 + 2 + 1 + 0  = 289 $$\n",
        "\n",
        "For the input2.txt \n",
        "```\n",
        "6\n",
        "1 3 200000 9 200000 23\n",
        "```\n",
        "$$T = 9 + 7(6) + 2(5)(6)  +  2 + 1 + 2 + 0 + 0 + 0 = 116 $$\n",
        "\n",
        "\n",
        "For the input3.txt that is the worst case (n=200000 and list in incresing order)\n",
        "\n",
        "```\n",
        "200000\n",
        "1 2 3 4 5 6 7 8 9 10 ... 199998 199999 200000\n",
        "```\n",
        "\n",
        "$$\n",
        "\\begin{array}{ll}\n",
        "T &= 9 + 7(200000) + (2)(199999)(200000)  + (199999 +\n",
        "100000 + 66667 +50000 \\cdots 2 + 2 + 1)\\\\\n",
        "&= 80003672077  \\\\\n",
        "  &< 9 + 7(200000) + (2.5)(199999)(200000) \\\\\n",
        "  & = 100000900009\n",
        "\\end{array}\n",
        "  $$"
      ]
    },
    {
      "cell_type": "markdown",
      "metadata": {
        "id": "NXW7QkoBL6xH"
      },
      "source": [
        "Calculate estimated time by instruction and number of instructions by second"
      ]
    },
    {
      "cell_type": "code",
      "metadata": {
        "colab": {
          "base_uri": "https://localhost:8080/"
        },
        "id": "pKqB3i7dIxnc",
        "outputId": "cec850f5-16e3-4cd6-bf9b-6f5f2fd7b076"
      },
      "source": [
        "# Estimated time by instruction\n",
        "\n",
        "128/80003672077 \n"
      ],
      "execution_count": null,
      "outputs": [
        {
          "output_type": "execute_result",
          "data": {
            "text/plain": [
              "1.5999265618308827e-09"
            ]
          },
          "metadata": {
            "tags": []
          },
          "execution_count": 34
        }
      ]
    },
    {
      "cell_type": "code",
      "metadata": {
        "colab": {
          "base_uri": "https://localhost:8080/"
        },
        "id": "18N1ouqeMhE1",
        "outputId": "d7d4d1bf-b899-4c01-8ecb-e30da3ae6468"
      },
      "source": [
        "# Estimated number of instructions by second\n",
        "\n",
        "1/(128/80003672077) "
      ],
      "execution_count": null,
      "outputs": [
        {
          "output_type": "execute_result",
          "data": {
            "text/plain": [
              "625028688.1015625"
            ]
          },
          "metadata": {
            "tags": []
          },
          "execution_count": 35
        }
      ]
    },
    {
      "cell_type": "markdown",
      "metadata": {
        "id": "CQufozXLNJwO"
      },
      "source": [
        "### Efficient solution"
      ]
    },
    {
      "cell_type": "markdown",
      "metadata": {
        "id": "nLcKBwbU0QsE"
      },
      "source": [
        "Add in each line a coment with the number of intstrcution that are executed in that line"
      ]
    },
    {
      "cell_type": "code",
      "metadata": {
        "id": "knls5Fh3NSt_",
        "colab": {
          "base_uri": "https://localhost:8080/"
        },
        "outputId": "582299bd-fc85-4030-afdf-2ac41551aee7"
      },
      "source": [
        "%%writefile MaxPairwiseProductEfficient.cpp\n",
        "#include <iostream>\n",
        "#include <cstdlib>\n",
        "#include <ctime>\n",
        "#include <vector>\n",
        "\n",
        "long long MaxPairwiseProductEfficient(const std::vector& numbers){                      \n",
        "  int n = numbers.size();                                                                 //1\n",
        "  int max_index1 = -1;                                                                    //1\n",
        "  for(int i = 0; i < n; ++i){                                                             //n\n",
        "    if ((max_index1 == -1) || (numbers[i]>numbers[max_index1]))                           //2n\n",
        "      max_index1 = i;                                                                     \n",
        "  }                                                                                       \n",
        "\n",
        "  int max_index2 = -1;                                                                    //1\n",
        "  for(int j = 0; j < n;++j)                                                               //1+n\n",
        "    if ((j != max_index1) && ((max_index2 == -1) || (numbers[j]>numbers[max_index2])))    //n\n",
        "      max_index2= j;                                                                      \n",
        "\n",
        "  return ((long long)(numbers[max_index1]))*numbers[max_index2];                          //3      \n",
        "}                                                                                         \n",
        "\n",
        "int main() {\n",
        "    int n;                                                                                //1\n",
        "    std::cin >> n;                                                                        //1\n",
        "    std::vector numbers(n);                                                               //1\n",
        "    for (int i = 0; i < n; ++i) {                                                         //n\n",
        "        std::cin >> numbers[i];                                                           //n  \n",
        "    }\n",
        "    \n",
        "    std::cout << MaxPairwiseProductEfficient(numbers) << \"\\n\";                            //1\n",
        "\n",
        "    return 0;                                                                             \n",
        "}"
      ],
      "execution_count": null,
      "outputs": [
        {
          "output_type": "stream",
          "name": "stdout",
          "text": [
            "Overwriting MaxPairwiseProductEfficient.cpp\n"
          ]
        }
      ]
    },
    {
      "cell_type": "markdown",
      "metadata": {
        "id": "-JCijbWxNSii"
      },
      "source": [
        "Test with inputs 1 and 2\n",
        "\n"
      ]
    },
    {
      "cell_type": "code",
      "metadata": {
        "id": "TrTGAfqlNVXT",
        "colab": {
          "base_uri": "https://localhost:8080/"
        },
        "outputId": "6dc7092e-31fd-45c6-f5f2-4d57afde9501"
      },
      "source": [
        "!g++ MaxPairwiseProductEfficient.cpp -o MaxPairwiseProductEfficient\n",
        "!./MaxPairwiseProductEfficient < input1.txt\n",
        "!./MaxPairwiseProductEfficient < input2.txt"
      ],
      "execution_count": null,
      "outputs": [
        {
          "output_type": "stream",
          "name": "stdout",
          "text": [
            "\u001b[01m\u001b[KMaxPairwiseProductEfficient.cpp:6:45:\u001b[m\u001b[K \u001b[01;31m\u001b[Kerror: \u001b[m\u001b[Kinvalid use of template-name ‘\u001b[01m\u001b[Kstd::vector\u001b[m\u001b[K’ without an argument list\n",
            "    6 | long long MaxPairwiseProductEfficient(const \u001b[01;31m\u001b[Kstd\u001b[m\u001b[K::vector& numbers){\n",
            "      |                                             \u001b[01;31m\u001b[K^~~\u001b[m\u001b[K\n",
            "\u001b[01m\u001b[KMaxPairwiseProductEfficient.cpp:6:45:\u001b[m\u001b[K \u001b[01;36m\u001b[Knote: \u001b[m\u001b[Kclass template argument deduction is only available with ‘\u001b[01m\u001b[K-std=c++17\u001b[m\u001b[K’ or ‘\u001b[01m\u001b[K-std=gnu++17\u001b[m\u001b[K’\n",
            "In file included from \u001b[01m\u001b[K/usr/include/c++/9/vector:67\u001b[m\u001b[K,\n",
            "                 from \u001b[01m\u001b[KMaxPairwiseProductEfficient.cpp:4\u001b[m\u001b[K:\n",
            "\u001b[01m\u001b[K/usr/include/c++/9/bits/stl_vector.h:386:11:\u001b[m\u001b[K \u001b[01;36m\u001b[Knote: \u001b[m\u001b[K‘\u001b[01m\u001b[Ktemplate<class _Tp, class _Alloc> class std::vector\u001b[m\u001b[K’ declared here\n",
            "  386 |     class \u001b[01;36m\u001b[Kvector\u001b[m\u001b[K : protected _Vector_base<_Tp, _Alloc>\n",
            "      |           \u001b[01;36m\u001b[K^~~~~~\u001b[m\u001b[K\n",
            "\u001b[01m\u001b[KMaxPairwiseProductEfficient.cpp:\u001b[m\u001b[K In function ‘\u001b[01m\u001b[Klong long int MaxPairwiseProductEfficient(const int&)\u001b[m\u001b[K’:\n",
            "\u001b[01m\u001b[KMaxPairwiseProductEfficient.cpp:7:19:\u001b[m\u001b[K \u001b[01;31m\u001b[Kerror: \u001b[m\u001b[Krequest for member ‘\u001b[01m\u001b[Ksize\u001b[m\u001b[K’ in ‘\u001b[01m\u001b[Knumbers\u001b[m\u001b[K’, which is of non-class type ‘\u001b[01m\u001b[Kconst int\u001b[m\u001b[K’\n",
            "    7 |   int n = numbers.\u001b[01;31m\u001b[Ksize\u001b[m\u001b[K();                                                                 //1\n",
            "      |                   \u001b[01;31m\u001b[K^~~~\u001b[m\u001b[K\n",
            "\u001b[01m\u001b[KMaxPairwiseProductEfficient.cpp:10:41:\u001b[m\u001b[K \u001b[01;31m\u001b[Kerror: \u001b[m\u001b[Kinvalid types ‘\u001b[01m\u001b[Kconst int[int]\u001b[m\u001b[K’ for array subscript\n",
            "   10 |     if ((max_index1 == -1) || (numbers[i\u001b[01;31m\u001b[K]\u001b[m\u001b[K>numbers[max_index1]))                           //2n\n",
            "      |                                         \u001b[01;31m\u001b[K^\u001b[m\u001b[K\n",
            "\u001b[01m\u001b[KMaxPairwiseProductEfficient.cpp:10:61:\u001b[m\u001b[K \u001b[01;31m\u001b[Kerror: \u001b[m\u001b[Kinvalid types ‘\u001b[01m\u001b[Kconst int[int]\u001b[m\u001b[K’ for array subscript\n",
            "   10 |     if ((max_index1 == -1) || (numbers[i]>numbers[max_index1\u001b[01;31m\u001b[K]\u001b[m\u001b[K))                           //2n\n",
            "      |                                                             \u001b[01;31m\u001b[K^\u001b[m\u001b[K\n",
            "\u001b[01m\u001b[KMaxPairwiseProductEfficient.cpp:16:63:\u001b[m\u001b[K \u001b[01;31m\u001b[Kerror: \u001b[m\u001b[Kinvalid types ‘\u001b[01m\u001b[Kconst int[int]\u001b[m\u001b[K’ for array subscript\n",
            "   16 |     if ((j != max_index1) && ((max_index2 == -1) || (numbers[j\u001b[01;31m\u001b[K]\u001b[m\u001b[K>numbers[max_index2])))    //n\n",
            "      |                                                               \u001b[01;31m\u001b[K^\u001b[m\u001b[K\n",
            "\u001b[01m\u001b[KMaxPairwiseProductEfficient.cpp:16:83:\u001b[m\u001b[K \u001b[01;31m\u001b[Kerror: \u001b[m\u001b[Kinvalid types ‘\u001b[01m\u001b[Kconst int[int]\u001b[m\u001b[K’ for array subscript\n",
            "   16 |     if ((j != max_index1) && ((max_index2 == -1) || (numbers[j]>numbers[max_index2\u001b[01;31m\u001b[K]\u001b[m\u001b[K)))    //n\n",
            "      |                                                                                   \u001b[01;31m\u001b[K^\u001b[m\u001b[K\n",
            "\u001b[01m\u001b[KMaxPairwiseProductEfficient.cpp:19:41:\u001b[m\u001b[K \u001b[01;31m\u001b[Kerror: \u001b[m\u001b[Kinvalid types ‘\u001b[01m\u001b[Kconst int[int]\u001b[m\u001b[K’ for array subscript\n",
            "   19 |   return ((long long)(numbers[max_index1\u001b[01;31m\u001b[K]\u001b[m\u001b[K))*numbers[max_index2];                          //3\n",
            "      |                                         \u001b[01;31m\u001b[K^\u001b[m\u001b[K\n",
            "\u001b[01m\u001b[KMaxPairwiseProductEfficient.cpp:19:63:\u001b[m\u001b[K \u001b[01;31m\u001b[Kerror: \u001b[m\u001b[Kinvalid types ‘\u001b[01m\u001b[Kconst int[int]\u001b[m\u001b[K’ for array subscript\n",
            "   19 |   return ((long long)(numbers[max_index1]))*numbers[max_index2\u001b[01;31m\u001b[K]\u001b[m\u001b[K;                          //3\n",
            "      |                                                               \u001b[01;31m\u001b[K^\u001b[m\u001b[K\n",
            "\u001b[01m\u001b[KMaxPairwiseProductEfficient.cpp:\u001b[m\u001b[K In function ‘\u001b[01m\u001b[Kint main()\u001b[m\u001b[K’:\n",
            "\u001b[01m\u001b[KMaxPairwiseProductEfficient.cpp:25:17:\u001b[m\u001b[K \u001b[01;31m\u001b[Kerror: \u001b[m\u001b[Kmissing template arguments before ‘\u001b[01m\u001b[Knumbers\u001b[m\u001b[K’\n",
            "   25 |     std::vector \u001b[01;31m\u001b[Knumbers\u001b[m\u001b[K(n);                                                               //1\n",
            "      |                 \u001b[01;31m\u001b[K^~~~~~~\u001b[m\u001b[K\n",
            "\u001b[01m\u001b[KMaxPairwiseProductEfficient.cpp:27:21:\u001b[m\u001b[K \u001b[01;31m\u001b[Kerror: \u001b[m\u001b[K‘\u001b[01m\u001b[Knumbers\u001b[m\u001b[K’ was not declared in this scope\n",
            "   27 |         std::cin >> \u001b[01;31m\u001b[Knumbers\u001b[m\u001b[K[i];                                                           //n\n",
            "      |                     \u001b[01;31m\u001b[K^~~~~~~\u001b[m\u001b[K\n",
            "\u001b[01m\u001b[KMaxPairwiseProductEfficient.cpp:30:46:\u001b[m\u001b[K \u001b[01;31m\u001b[Kerror: \u001b[m\u001b[K‘\u001b[01m\u001b[Knumbers\u001b[m\u001b[K’ was not declared in this scope\n",
            "   30 |     std::cout << MaxPairwiseProductEfficient(\u001b[01;31m\u001b[Knumbers\u001b[m\u001b[K) << \"\\n\";                            //1\n",
            "      |                                              \u001b[01;31m\u001b[K^~~~~~~\u001b[m\u001b[K\n",
            "/bin/bash: input1.txt: No such file or directory\n",
            "/bin/bash: input2.txt: No such file or directory\n"
          ]
        }
      ]
    },
    {
      "cell_type": "markdown",
      "metadata": {
        "id": "PRX51wADNR8b"
      },
      "source": [
        "Test and time it with input 3"
      ]
    },
    {
      "cell_type": "code",
      "metadata": {
        "id": "v4z7-Is_NRt7"
      },
      "source": [],
      "execution_count": null,
      "outputs": []
    },
    {
      "cell_type": "markdown",
      "metadata": {
        "id": "rpdfs0_TNZJf"
      },
      "source": [
        "20 stress tests"
      ]
    },
    {
      "cell_type": "code",
      "metadata": {
        "id": "Lu4tYcKzNcTT"
      },
      "source": [],
      "execution_count": null,
      "outputs": []
    },
    {
      "cell_type": "markdown",
      "metadata": {
        "id": "L8U4151JNbxk"
      },
      "source": [
        "Count executed instructions in code and verify with inputs 1,2 and 3\n"
      ]
    },
    {
      "cell_type": "code",
      "metadata": {
        "id": "dh85RM8vNhFz"
      },
      "source": [],
      "execution_count": null,
      "outputs": []
    },
    {
      "cell_type": "markdown",
      "metadata": {
        "id": "K6ybgCmpNygr"
      },
      "source": [
        "Calculate estimated time by instruction and number of instructions by second"
      ]
    },
    {
      "cell_type": "code",
      "metadata": {
        "id": "kwe3G1O3Nz1w"
      },
      "source": [],
      "execution_count": null,
      "outputs": []
    },
    {
      "cell_type": "markdown",
      "metadata": {
        "id": "sc9nOLQrfTm0"
      },
      "source": [
        "### Super efficient solution\n",
        "\n",
        "Whitout storing the list in memory and whitout calling a function, add in each line a coment with the number of intstrcution that are executed in that line "
      ]
    },
    {
      "cell_type": "code",
      "metadata": {
        "id": "hBLt_xBQLy8E"
      },
      "source": [],
      "execution_count": null,
      "outputs": []
    },
    {
      "cell_type": "markdown",
      "metadata": {
        "id": "683gc3roHqzb"
      },
      "source": [
        "Test with inputs 1 and 2\n",
        "\n",
        "\n",
        " "
      ]
    },
    {
      "cell_type": "code",
      "metadata": {
        "id": "b7d4LA8OIc2_"
      },
      "source": [],
      "execution_count": null,
      "outputs": []
    },
    {
      "cell_type": "markdown",
      "metadata": {
        "id": "36Ugn1odIeJz"
      },
      "source": [
        "Test and time it with input 3"
      ]
    },
    {
      "cell_type": "code",
      "metadata": {
        "id": "jDyMbCnxHqSN"
      },
      "source": [],
      "execution_count": null,
      "outputs": []
    },
    {
      "cell_type": "markdown",
      "metadata": {
        "id": "bhqiKQG6fjKM"
      },
      "source": [
        "20 stress tests "
      ]
    },
    {
      "cell_type": "code",
      "metadata": {
        "id": "2KsiXKhALzwm"
      },
      "source": [],
      "execution_count": null,
      "outputs": []
    },
    {
      "cell_type": "markdown",
      "metadata": {
        "id": "fEXj8GHJH5p1"
      },
      "source": [
        "Count executed instructions in code and verify with inputs 1,2 and 3"
      ]
    },
    {
      "cell_type": "code",
      "metadata": {
        "id": "LF1DHjKXIAsF"
      },
      "source": [],
      "execution_count": null,
      "outputs": []
    },
    {
      "cell_type": "markdown",
      "metadata": {
        "id": "yae7sSm2IG9U"
      },
      "source": [
        "Calculate estimated time by instruction and number of instructions by second"
      ]
    },
    {
      "cell_type": "code",
      "metadata": {
        "id": "suouY7BYL2dz"
      },
      "source": [],
      "execution_count": null,
      "outputs": []
    },
    {
      "cell_type": "markdown",
      "metadata": {
        "id": "LkVxxlhl9H98"
      },
      "source": [
        "# Codeforces problem https://codeforces.com/contest/1619/problem/A \n",
        "\n",
        "Solve the problem in Colab, submit the solution to Codeforces and add a screenshoot of the submission."
      ]
    },
    {
      "cell_type": "markdown",
      "source": [
        "Aceptado con el codigo:"
      ],
      "metadata": {
        "id": "XztI8LXTTawT"
      }
    },
    {
      "cell_type": "markdown",
      "source": [
        "![image.png](data:image/png;base64,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)"
      ],
      "metadata": {
        "id": "gy4hj7yE0pI5"
      }
    },
    {
      "cell_type": "code",
      "source": [
        "n = int(input())\n",
        "\n",
        "for i in range(n):\n",
        "    word = input().strip()\n",
        "    size = len(word)\n",
        "\n",
        "    if size % 2 != 0:\n",
        "        print('NO')\n",
        "    else:\n",
        "        middle = size//2\n",
        "        if(word[:middle]==word[middle:]):\n",
        "            print('YES')\n",
        "        else:\n",
        "            print('NO')"
      ],
      "metadata": {
        "id": "RQPk49KjTeoZ"
      },
      "execution_count": null,
      "outputs": []
    }
  ]
}